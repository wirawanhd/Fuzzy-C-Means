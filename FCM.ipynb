{
 "cells": [
  {
   "cell_type": "code",
   "execution_count": 1,
   "metadata": {},
   "outputs": [
    {
     "ename": "ModuleNotFoundError",
     "evalue": "No module named 'pandas'",
     "output_type": "error",
     "traceback": [
      "\u001b[1;31m---------------------------------------------------------------------------\u001b[0m",
      "\u001b[1;31mModuleNotFoundError\u001b[0m                       Traceback (most recent call last)",
      "Cell \u001b[1;32mIn[1], line 1\u001b[0m\n\u001b[1;32m----> 1\u001b[0m \u001b[39mimport\u001b[39;00m \u001b[39mpandas\u001b[39;00m \u001b[39mas\u001b[39;00m \u001b[39mpd\u001b[39;00m\n\u001b[0;32m      2\u001b[0m \u001b[39mimport\u001b[39;00m \u001b[39mnumpy\u001b[39;00m \u001b[39mas\u001b[39;00m \u001b[39mnp\u001b[39;00m\n\u001b[0;32m      3\u001b[0m \u001b[39mfrom\u001b[39;00m \u001b[39msklearn\u001b[39;00m\u001b[39m.\u001b[39;00m\u001b[39mmetrics\u001b[39;00m\u001b[39m.\u001b[39;00m\u001b[39mpairwise\u001b[39;00m \u001b[39mimport\u001b[39;00m euclidean_distances\n",
      "\u001b[1;31mModuleNotFoundError\u001b[0m: No module named 'pandas'"
     ]
    }
   ],
   "source": [
    "import pandas as pd\n",
    "import numpy as np\n",
    "from sklearn.metrics.pairwise import euclidean_distances\n",
    "from sklearn.preprocessing import MinMaxScaler\n",
    "\n",
    "def fuzzy_c_means(dataset, num_clusters, max_iter, fuzziness):\n",
    "    # Menginisialisasi keanggotaan secara manual\n",
    "    membership_matrix = np.array([\n",
    "        [0.3, 0.3, 0.4],  # Keanggotaan data pertama pada klaster 1, 2, dan 3\n",
    "        [0.2, 0.5, 0.3],  # Keanggotaan data kedua pada klaster 1, 2, dan 3\n",
    "        [0.4, 0.2, 0.4],  # Keanggotaan data ketiga pada klaster 1, 2, dan 3\n",
    "        [0.6, 0.1, 0.3],\n",
    "        [0.4, 0.3, 0.3],\n",
    "        [0.5, 0.2, 0.3],\n",
    "        [0.6, 0.2, 0.2],\n",
    "        [0.4, 0.2, 0.4],\n",
    "        [0.3, 0.4, 0.3],\n",
    "        [0.2, 0.4, 0.4],\n",
    "    ])\n",
    "\n",
    "    # Normalisasi keanggotaan agar jumlah keanggotaan setiap data menjadi 1\n",
    "    membership_matrix = membership_matrix / np.sum(membership_matrix, axis=1, keepdims=True)\n",
    "\n",
    "    # Preprocessing dataset\n",
    "    dataset.fillna(dataset.mean(), inplace=True)  # Mengganti missing values dengan nilai rata-rata\n",
    "\n",
    "    # Scaling dataset\n",
    "    scaler = MinMaxScaler()\n",
    "    dataset_scaled = scaler.fit_transform(dataset)\n",
    "\n",
    "    # Iterasi\n",
    "    num_samples = len(dataset_scaled)\n",
    "    num_features = dataset_scaled.shape[1]\n",
    "    for _ in range(max_iter):\n",
    "        # Menghitung pusat klaster baru\n",
    "        cluster_centers = np.zeros((num_clusters, num_features))\n",
    "        for k in range(num_clusters):\n",
    "            membership_power = np.power(membership_matrix[:, k], fuzziness)\n",
    "            for j in range(num_features):\n",
    "                cluster_centers[k, j] = np.sum(membership_power * dataset_scaled[:, j]) / np.sum(membership_power)\n",
    "\n",
    "        # Menghitung ulang tingkat keanggotaan\n",
    "        distances = euclidean_distances(dataset_scaled, cluster_centers)\n",
    "        distances = np.power(distances, 2 / (fuzziness - 1))\n",
    "        membership_matrix = 1 / np.sum(distances[:, :, np.newaxis] / distances[:, np.newaxis, :], axis=2)\n",
    "\n",
    "    return membership_matrix, cluster_centers\n",
    "\n",
    "# Membaca dataset dari file Excel\n",
    "dataset = pd.read_excel('preproc.xlsx', usecols=['Berat Badan (kg)', 'Tinggi Badan (cm)'])\n",
    "\n",
    "# Menentukan parameter\n",
    "num_clusters = 3\n",
    "max_iter = 3\n",
    "fuzziness = 2\n",
    "\n",
    "# Menjalankan algoritma Fuzzy C-Means\n",
    "membership_matrix, cluster_centers = fuzzy_c_means(dataset, num_clusters, max_iter, fuzziness)\n",
    "\n",
    "# Menampilkan hasil\n",
    "print(\"Tingkat keanggotaan:\")\n",
    "print(membership_matrix)\n",
    "print(\"\\nPusat klaster:\")\n",
    "print(cluster_centers)\n"
   ]
  }
 ],
 "metadata": {
  "kernelspec": {
   "display_name": "Python 3",
   "language": "python",
   "name": "python3"
  },
  "language_info": {
   "codemirror_mode": {
    "name": "ipython",
    "version": 3
   },
   "file_extension": ".py",
   "mimetype": "text/x-python",
   "name": "python",
   "nbconvert_exporter": "python",
   "pygments_lexer": "ipython3",
   "version": "3.11.4"
  },
  "orig_nbformat": 4
 },
 "nbformat": 4,
 "nbformat_minor": 2
}
